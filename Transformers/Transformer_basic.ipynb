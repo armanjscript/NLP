{
  "nbformat": 4,
  "nbformat_minor": 0,
  "metadata": {
    "colab": {
      "provenance": []
    },
    "kernelspec": {
      "name": "python3",
      "display_name": "Python 3"
    },
    "language_info": {
      "name": "python"
    }
  },
  "cells": [
    {
      "cell_type": "code",
      "execution_count": 11,
      "metadata": {
        "id": "M1kKCOliacec"
      },
      "outputs": [],
      "source": [
        "import numpy as np\n",
        "from scipy.special import softmax"
      ]
    },
    {
      "cell_type": "code",
      "source": [
        "print(\"Step 1:  Input: 3 inputs, d_model=4\")\n",
        "x = np.array(\n",
        "    [[1.0, 0.0, 1.0, 0.0],\n",
        "    [0.0, 2.0, 0.0, 2.0],\n",
        "    [1.0, 1.0, 1.0, 1.0],\n",
        "     ]\n",
        ")\n",
        "print(x)"
      ],
      "metadata": {
        "colab": {
          "base_uri": "https://localhost:8080/"
        },
        "id": "3kncSG9NazF4",
        "outputId": "b08d163e-cc0d-4aef-f9cf-dbf60948d4a1"
      },
      "execution_count": 12,
      "outputs": [
        {
          "output_type": "stream",
          "name": "stdout",
          "text": [
            "Step 1:  Input: 3 inputs, d_model=4\n",
            "[[1. 0. 1. 0.]\n",
            " [0. 2. 0. 2.]\n",
            " [1. 1. 1. 1.]]\n"
          ]
        }
      ]
    },
    {
      "cell_type": "code",
      "source": [
        "print(\"Step 2:  weights 3 dimensions x d_model=4\")\n",
        "w_query = np.array(\n",
        "    [[1, 0, 1],\n",
        "    [1, 0, 0],\n",
        "    [0, 0, 1,],\n",
        "    [0, 1, 1],\n",
        "     ]\n",
        ")\n",
        "print(w_query)"
      ],
      "metadata": {
        "colab": {
          "base_uri": "https://localhost:8080/"
        },
        "id": "-eLjU29Akvxq",
        "outputId": "b5688604-a1df-4ee1-ee67-f43b4d20d023"
      },
      "execution_count": 13,
      "outputs": [
        {
          "output_type": "stream",
          "name": "stdout",
          "text": [
            "Step 2:  weights 3 dimensions x d_model=4\n",
            "[[1 0 1]\n",
            " [1 0 0]\n",
            " [0 0 1]\n",
            " [0 1 1]]\n"
          ]
        }
      ]
    },
    {
      "cell_type": "code",
      "source": [
        "print(\"w_key\")\n",
        "w_key = np.array(\n",
        "    [[0, 0, 1],\n",
        "    [1, 1, 0],\n",
        "    [0, 1, 0,],\n",
        "    [1, 1, 0],\n",
        "     ]\n",
        ")\n",
        "print(w_key)"
      ],
      "metadata": {
        "colab": {
          "base_uri": "https://localhost:8080/"
        },
        "id": "7MsCD6gQlzgv",
        "outputId": "0639db7b-ddc5-4a34-9bdb-0be70eb28027"
      },
      "execution_count": 14,
      "outputs": [
        {
          "output_type": "stream",
          "name": "stdout",
          "text": [
            "w_key\n",
            "[[0 0 1]\n",
            " [1 1 0]\n",
            " [0 1 0]\n",
            " [1 1 0]]\n"
          ]
        }
      ]
    },
    {
      "cell_type": "code",
      "source": [
        "print(\"w_value\")\n",
        "w_value = np.array(\n",
        "    [[0, 2, 0],\n",
        "    [0, 3, 0],\n",
        "    [1, 0, 3],\n",
        "    [1, 1, 0],\n",
        "     ]\n",
        ")\n",
        "print(w_value)"
      ],
      "metadata": {
        "colab": {
          "base_uri": "https://localhost:8080/"
        },
        "id": "JtoYXN58maOH",
        "outputId": "0a7ac03b-0163-43b3-86a1-d0b140bf2bae"
      },
      "execution_count": 15,
      "outputs": [
        {
          "output_type": "stream",
          "name": "stdout",
          "text": [
            "w_value\n",
            "[[0 2 0]\n",
            " [0 3 0]\n",
            " [1 0 3]\n",
            " [1 1 0]]\n"
          ]
        }
      ]
    },
    {
      "cell_type": "code",
      "source": [
        "Q = np.matmul(x, w_query)\n",
        "print(Q)"
      ],
      "metadata": {
        "id": "agavZ7rVnxKg",
        "colab": {
          "base_uri": "https://localhost:8080/"
        },
        "outputId": "05123db1-928c-4a65-e41c-6423f7a20b9c"
      },
      "execution_count": 16,
      "outputs": [
        {
          "output_type": "stream",
          "name": "stdout",
          "text": [
            "[[1. 0. 2.]\n",
            " [2. 2. 2.]\n",
            " [2. 1. 3.]]\n"
          ]
        }
      ]
    },
    {
      "cell_type": "code",
      "source": [
        "K = np.matmul(x, w_key)\n",
        "print(K)"
      ],
      "metadata": {
        "id": "r8DZe7CDoBCU",
        "colab": {
          "base_uri": "https://localhost:8080/"
        },
        "outputId": "1bfdd417-74e8-4025-f5bf-61842b56e471"
      },
      "execution_count": 17,
      "outputs": [
        {
          "output_type": "stream",
          "name": "stdout",
          "text": [
            "[[0. 1. 1.]\n",
            " [4. 4. 0.]\n",
            " [2. 3. 1.]]\n"
          ]
        }
      ]
    },
    {
      "cell_type": "code",
      "source": [
        "V = np.matmul(x, w_value)\n",
        "print(V)"
      ],
      "metadata": {
        "colab": {
          "base_uri": "https://localhost:8080/"
        },
        "id": "W40lxL_yp7k0",
        "outputId": "ffeb0401-65cf-4efe-911e-baeb7fd8c1d6"
      },
      "execution_count": 18,
      "outputs": [
        {
          "output_type": "stream",
          "name": "stdout",
          "text": [
            "[[1. 2. 3.]\n",
            " [2. 8. 0.]\n",
            " [2. 6. 3.]]\n"
          ]
        }
      ]
    },
    {
      "cell_type": "code",
      "source": [
        "#Scaled attention scores\n",
        "k_d = 1\n",
        "attention_scores = (Q @ K.transpose())/k_d\n",
        "print(attention_scores)"
      ],
      "metadata": {
        "colab": {
          "base_uri": "https://localhost:8080/"
        },
        "id": "QnUen3bRqVa8",
        "outputId": "f6fd6b18-5ac5-4f74-fca1-34fc9ba412ad"
      },
      "execution_count": 19,
      "outputs": [
        {
          "output_type": "stream",
          "name": "stdout",
          "text": [
            "[[ 2.  4.  4.]\n",
            " [ 4. 16. 12.]\n",
            " [ 4. 12. 10.]]\n"
          ]
        }
      ]
    },
    {
      "cell_type": "code",
      "source": [
        "#Scaled softmax attention_scores for each vector\n",
        "attention_scores[0] = softmax(attention_scores[0])\n",
        "attention_scores[1] = softmax(attention_scores[1])\n",
        "attention_scores[2] = softmax(attention_scores[2])\n",
        "print(attention_scores[0])\n",
        "print(attention_scores[1])\n",
        "print(attention_scores[2])"
      ],
      "metadata": {
        "colab": {
          "base_uri": "https://localhost:8080/"
        },
        "id": "-Fq3yEAmq71M",
        "outputId": "cad0b091-bdf5-4c84-f5e8-c7a23de6b39b"
      },
      "execution_count": 20,
      "outputs": [
        {
          "output_type": "stream",
          "name": "stdout",
          "text": [
            "[0.06337894 0.46831053 0.46831053]\n",
            "[6.03366485e-06 9.82007865e-01 1.79861014e-02]\n",
            "[2.95387223e-04 8.80536902e-01 1.19167711e-01]\n"
          ]
        }
      ]
    },
    {
      "cell_type": "code",
      "source": [
        "print(V[0])\n",
        "print(V[1])\n",
        "print(V[2])\n",
        "\n",
        "print(\"Attention1\")\n",
        "attention1 = attention_scores[0].reshape(-1, 1)\n",
        "attention1 = attention_scores[0][0]*V[0]\n",
        "print(attention1)\n",
        "\n",
        "print(\"Attention2\")\n",
        "attention2 = attention_scores[0][1]*V[1]\n",
        "print(attention2)\n",
        "\n",
        "print(\"Attention3\")\n",
        "attention3 = attention_scores[0][2]*V[2]\n",
        "print(attention3)"
      ],
      "metadata": {
        "colab": {
          "base_uri": "https://localhost:8080/"
        },
        "id": "JXAgdKBjsJuU",
        "outputId": "9d54a882-cdab-4771-fe07-fd3d14e9c97f"
      },
      "execution_count": 21,
      "outputs": [
        {
          "output_type": "stream",
          "name": "stdout",
          "text": [
            "[1. 2. 3.]\n",
            "[2. 8. 0.]\n",
            "[2. 6. 3.]\n",
            "Attention1\n",
            "[0.06337894 0.12675788 0.19013681]\n",
            "Attention2\n",
            "[0.93662106 3.74648425 0.        ]\n",
            "Attention3\n",
            "[0.93662106 2.80986319 1.40493159]\n"
          ]
        }
      ]
    },
    {
      "cell_type": "code",
      "source": [
        "print(\"summed the results to create the first line of the output matrix\")\n",
        "attention1_input = attention1 + attention2 + attention3\n",
        "print(attention1_input)\n",
        "\n",
        "\"\"\"\n",
        "We have produced one of the three attention inputs. others are the same with describe steps and methods.\n",
        "\"\"\""
      ],
      "metadata": {
        "colab": {
          "base_uri": "https://localhost:8080/"
        },
        "id": "3V6Fro7nuMs0",
        "outputId": "c6ab0f77-455e-4ed9-c9b6-fb68fca8c7be"
      },
      "execution_count": 22,
      "outputs": [
        {
          "output_type": "stream",
          "name": "stdout",
          "text": [
            "summed the results to create the first line of the output matrix\n",
            "[1.93662106 6.68310531 1.59506841]\n"
          ]
        }
      ]
    }
  ]
}
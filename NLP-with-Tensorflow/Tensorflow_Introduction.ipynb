{
  "nbformat": 4,
  "nbformat_minor": 0,
  "metadata": {
    "colab": {
      "provenance": []
    },
    "kernelspec": {
      "name": "python3",
      "display_name": "Python 3"
    },
    "language_info": {
      "name": "python"
    }
  },
  "cells": [
    {
      "cell_type": "code",
      "execution_count": 1,
      "metadata": {
        "id": "qrmdYzdvVoud"
      },
      "outputs": [],
      "source": [
        "import tensorflow as tf\n",
        "import numpy as np"
      ]
    },
    {
      "cell_type": "code",
      "source": [
        "def layer(x, W, b):\n",
        "  #Building the graph\n",
        "  #Sigmoid transformation\n",
        "  h = tf.nn.sigmoid(tf.matmul(x, W) + b)\n",
        "  return h"
      ],
      "metadata": {
        "id": "gsOQ0kthWBG-"
      },
      "execution_count": 2,
      "outputs": []
    },
    {
      "cell_type": "code",
      "source": [
        "@tf.function\n",
        "def layer(x, W, b):\n",
        "  #Building the graph\n",
        "  #Sigmoid transformation\n",
        "  h = tf.nn.sigmoid(tf.matmul(x, W) + b)\n",
        "  return h"
      ],
      "metadata": {
        "id": "1Ba_MTYnW1OX"
      },
      "execution_count": 3,
      "outputs": []
    },
    {
      "cell_type": "code",
      "source": [
        "x = np.array([[0, 0.1, 0.2, 0.3, 0.4, 0.5, 0.6, 0.7, 0.8, 0.9]], dtype=np.float32)"
      ],
      "metadata": {
        "id": "wwA3uberXdWv"
      },
      "execution_count": 4,
      "outputs": []
    },
    {
      "cell_type": "code",
      "source": [
        "init_w = tf.initializers.RandomUniform(minval=-0.1, maxval=0.1) (shape=[10, 5])\n",
        "\n",
        "W = tf.Variable(init_w, dtype=tf.float32, name='W')\n",
        "\n",
        "init_b = tf.initializers.RandomUniform()(shape=[5])\n",
        "b = tf.Variable(init_b, dtype=tf.float32, name='b')"
      ],
      "metadata": {
        "id": "R2sCO0l0X1g-"
      },
      "execution_count": 5,
      "outputs": []
    },
    {
      "cell_type": "code",
      "source": [
        "h = layer(x, W, b)\n",
        "print(f'h = {h.numpy()}')"
      ],
      "metadata": {
        "colab": {
          "base_uri": "https://localhost:8080/"
        },
        "id": "dpn7WNo9ZxM_",
        "outputId": "8b941533-c44c-4efa-d6f4-a3d80ccc27c9"
      },
      "execution_count": 6,
      "outputs": [
        {
          "output_type": "stream",
          "name": "stdout",
          "text": [
            "h = [[0.5012229  0.53247905 0.52368844 0.49212134 0.51089495]]\n"
          ]
        }
      ]
    },
    {
      "cell_type": "markdown",
      "source": [
        "**Tnsorflow1 sigmoid transformation with Data Flow Graph**"
      ],
      "metadata": {
        "id": "Gxg952RVgtB3"
      }
    },
    {
      "cell_type": "code",
      "source": [
        "import tensorflow.compat.v1 as tfc\n",
        "graph = tfc.Graph()\n",
        "session = tfc.InteractiveSession(graph = graph)"
      ],
      "metadata": {
        "id": "nQIGlhf0g4x_"
      },
      "execution_count": 7,
      "outputs": []
    },
    {
      "cell_type": "code",
      "source": [
        "x = tfc.placeholder(shape=[1, 10], dtype=tfc.float32, name='x')\n",
        "W = tfc.Variable(tfc.random_uniform(shape=[10, 5], minval=-0.1, maxval=0.1, dtype=tfc.float32), name='W')\n",
        "b = tfc.Variable(tfc.zeros(shape=[5], dtype=tf.float32), name = 'b')\n",
        "h = tfc.nn.sigmoid(tfc.matmul(x, W) + b)"
      ],
      "metadata": {
        "id": "x1Aqrhw3hKGW"
      },
      "execution_count": 8,
      "outputs": []
    },
    {
      "cell_type": "code",
      "source": [
        "tfc.global_variables_initializer().run()"
      ],
      "metadata": {
        "id": "pV5FYlfhionx"
      },
      "execution_count": 9,
      "outputs": []
    },
    {
      "cell_type": "code",
      "source": [
        "h_eval = session.run(h, feed_dict={x: np.random.rand(1, 10)})\n",
        "session.close()"
      ],
      "metadata": {
        "id": "vi__OAvWi2S_"
      },
      "execution_count": 10,
      "outputs": []
    }
  ]
}